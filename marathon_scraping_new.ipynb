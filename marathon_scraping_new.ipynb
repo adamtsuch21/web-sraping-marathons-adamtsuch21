{
 "cells": [
  {
   "cell_type": "code",
   "execution_count": 31,
   "metadata": {},
   "outputs": [],
   "source": [
    "import requests\n",
    "from bs4 import BeautifulSoup\n",
    "import csv\n",
    "import pandas as pd"
   ]
  },
  {
   "cell_type": "code",
   "execution_count": 32,
   "metadata": {},
   "outputs": [],
   "source": [
    "MARATHONS_CONFIG = {\n",
    "    'base_url': 'https://www.runrocknroll.com',\n",
    "    'query_params': 'gender=&agegroup=&bib=&firstname=&lastname=&page=',\n",
    "    'pages': [\n",
    "        'Events/Nashville/The-Races/Marathon/2019-Results',\n",
    "        'Events/Nashville/The-Races/Marathon/2018-Results',\n",
    "        'Events/Nashville/The-Races/Marathon/2017-Results',\n",
    "        'Events/Nashville/The-Races/Marathon/2016-Results',\n",
    "        'Events/Nashville/The-Races/Half-Marathon/2019-Results',\n",
    "        'Events/Nashville/The-Races/Half-Marathon/2018-Results',\n",
    "        'Events/Nashville/The-Races/Half-Marathon/2017-Results',\n",
    "        'Events/Nashville/The-Races/Half-Marathon/2016-Results'\n",
    "    ]\n",
    "}"
   ]
  },
  {
   "cell_type": "code",
   "execution_count": 33,
   "metadata": {},
   "outputs": [
    {
     "name": "stdout",
     "output_type": "stream",
     "text": [
      "['Events/Nashville/The-Races/Marathon/2019-Results', 'Events/Nashville/The-Races/Marathon/2018-Results', 'Events/Nashville/The-Races/Marathon/2017-Results', 'Events/Nashville/The-Races/Marathon/2016-Results', 'Events/Nashville/The-Races/Half-Marathon/2019-Results', 'Events/Nashville/The-Races/Half-Marathon/2018-Results', 'Events/Nashville/The-Races/Half-Marathon/2017-Results', 'Events/Nashville/The-Races/Half-Marathon/2016-Results']\n"
     ]
    }
   ],
   "source": [
    "marathon_pages = MARATHONS_CONFIG['pages']\n",
    "print(marathon_pages)"
   ]
  },
  {
   "cell_type": "code",
   "execution_count": 34,
   "metadata": {},
   "outputs": [
    {
     "name": "stdout",
     "output_type": "stream",
     "text": [
      "https://www.runrocknroll.com\n"
     ]
    }
   ],
   "source": [
    "marathons_base = MARATHONS_CONFIG['base_url']\n",
    "print(marathons_base)"
   ]
  },
  {
   "cell_type": "code",
   "execution_count": 35,
   "metadata": {
    "scrolled": true
   },
   "outputs": [
    {
     "name": "stdout",
     "output_type": "stream",
     "text": [
      "gender=&agegroup=&bib=&firstname=&lastname=&page=\n"
     ]
    }
   ],
   "source": [
    "marathons_params = MARATHONS_CONFIG['query_params']\n",
    "print(marathons_params)"
   ]
  },
  {
   "cell_type": "code",
   "execution_count": 36,
   "metadata": {},
   "outputs": [],
   "source": [
    "marathons_19 = f'{marathons_base}/{marathon_pages[0]}?{marathons_params}'"
   ]
  },
  {
   "cell_type": "code",
   "execution_count": 37,
   "metadata": {},
   "outputs": [],
   "source": [
    "marathons_18 = f'{marathons_base}/{marathon_pages[1]}?{marathons_params}'"
   ]
  },
  {
   "cell_type": "code",
   "execution_count": 38,
   "metadata": {},
   "outputs": [],
   "source": [
    "marathons_17 = f'{marathons_base}/{marathon_pages[2]}?{marathons_params}'"
   ]
  },
  {
   "cell_type": "code",
   "execution_count": 39,
   "metadata": {},
   "outputs": [],
   "source": [
    "marathons_16 = f'{marathons_base}/{marathon_pages[3]}?{marathons_params}'"
   ]
  },
  {
   "cell_type": "code",
   "execution_count": 40,
   "metadata": {},
   "outputs": [],
   "source": [
    "half_19 = f'{marathons_base}/{marathon_pages[4]}?{marathons_params}'"
   ]
  },
  {
   "cell_type": "code",
   "execution_count": 41,
   "metadata": {},
   "outputs": [],
   "source": [
    "half_18 = f'{marathons_base}/{marathon_pages[5]}?{marathons_params}'"
   ]
  },
  {
   "cell_type": "code",
   "execution_count": 42,
   "metadata": {},
   "outputs": [],
   "source": [
    "half_17 = f'{marathons_base}/{marathon_pages[6]}?{marathons_params}'"
   ]
  },
  {
   "cell_type": "code",
   "execution_count": 43,
   "metadata": {},
   "outputs": [],
   "source": [
    "half_16 = f'{marathons_base}/{marathon_pages[7]}?{marathons_params}'"
   ]
  },
  {
   "cell_type": "code",
   "execution_count": 44,
   "metadata": {},
   "outputs": [],
   "source": [
    "table_data = []"
   ]
  },
  {
   "cell_type": "code",
   "execution_count": 45,
   "metadata": {},
   "outputs": [
    {
     "name": "stdout",
     "output_type": "stream",
     "text": [
      "https://www.runrocknroll.com/Events/Nashville/The-Races/Marathon/2019-Results?gender=&agegroup=&bib=&firstname=&lastname=&page=1\n"
     ]
    }
   ],
   "source": [
    "marathons_19_1 = f'{marathons_19}1'\n",
    "print(marathons_19_1)"
   ]
  },
  {
   "cell_type": "code",
   "execution_count": 46,
   "metadata": {},
   "outputs": [
    {
     "name": "stdout",
     "output_type": "stream",
     "text": [
      "200\n"
     ]
    }
   ],
   "source": [
    "resp = requests.post(marathons_19_1)\n",
    "print(resp.status_code)"
   ]
  },
  {
   "cell_type": "code",
   "execution_count": 47,
   "metadata": {},
   "outputs": [],
   "source": [
    "soup = BeautifulSoup(resp.text, 'html.parser')"
   ]
  },
  {
   "cell_type": "code",
   "execution_count": 48,
   "metadata": {
    "scrolled": false
   },
   "outputs": [],
   "source": [
    "table_19_1 = soup.find('table', {'class': 'table table-responsive table-bordered'})"
   ]
  },
  {
   "cell_type": "code",
   "execution_count": 49,
   "metadata": {},
   "outputs": [
    {
     "name": "stdout",
     "output_type": "stream",
     "text": [
      "[<th class=\"table-place\">Overall</th>, <th class=\"table-place\">Bib</th>, <th class=\"table-name\">Name</th>, <th class=\"table-time\">Time</th>]\n"
     ]
    }
   ],
   "source": [
    "table_19_1_heading = table_19_1.find('tr')\n",
    "table_19_1_heading = table_19_1_heading.find_all('th')\n",
    "print(table_19_1_heading)"
   ]
  },
  {
   "cell_type": "code",
   "execution_count": 50,
   "metadata": {},
   "outputs": [
    {
     "data": {
      "text/plain": [
       "<tr>\n",
       "<th class=\"table-place\">Overall</th>\n",
       "<th class=\"table-place\">Bib</th>\n",
       "<th class=\"table-name\">Name</th>\n",
       "<th class=\"table-time\">Time</th>\n",
       "</tr>"
      ]
     },
     "execution_count": 50,
     "metadata": {},
     "output_type": "execute_result"
    }
   ],
   "source": [
    "table_19_1_data = table_19_1.find_all('tr')\n",
    "table_19_1_data.pop(0)"
   ]
  },
  {
   "cell_type": "code",
   "execution_count": 51,
   "metadata": {},
   "outputs": [
    {
     "name": "stdout",
     "output_type": "stream",
     "text": [
      "[{'Overall': '1', 'Bib': '30001', 'Name': 'Travis Peruski', 'Time': '01:37:54'}, {'Overall': '2', 'Bib': '1', 'Name': 'Scott Wietecha', 'Time': '02:34:59'}, {'Overall': '3', 'Bib': '4', 'Name': 'Jordan Wilson', 'Time': '02:35:24'}, {'Overall': '4', 'Bib': '30034', 'Name': 'Steelton Flynn', 'Time': '02:39:59'}, {'Overall': '5', 'Bib': '30035', 'Name': 'Thomas Ellis', 'Time': '02:42:09'}, {'Overall': '6', 'Bib': '33172', 'Name': 'Nicholas Tseffos', 'Time': '02:48:42'}, {'Overall': '7', 'Bib': '30053', 'Name': 'Satoshi Mitsumori', 'Time': '02:50:33'}, {'Overall': '8', 'Bib': '30051', 'Name': 'Harrison Kieffer', 'Time': '02:51:18'}, {'Overall': '9', 'Bib': '30086', 'Name': 'Steven Forte', 'Time': '02:54:34'}, {'Overall': '10', 'Bib': '30042', 'Name': 'Grant Rice', 'Time': '02:55:49'}, {'Overall': '11', 'Bib': '30049', 'Name': 'Andrew Fisher', 'Time': '02:56:05'}, {'Overall': '12', 'Bib': '30038', 'Name': 'Edgar Garza', 'Time': '02:56:40'}, {'Overall': '13', 'Bib': '30094', 'Name': 'Wesley King', 'Time': '02:56:58'}, {'Overall': '14', 'Bib': '30112', 'Name': 'Jake Smith', 'Time': '02:57:38'}, {'Overall': '15', 'Bib': '30096', 'Name': 'Mark Laprade', 'Time': '02:58:00'}, {'Overall': '16', 'Bib': '30142', 'Name': 'Scott Roman', 'Time': '02:59:09'}, {'Overall': '17', 'Bib': '30054', 'Name': 'James Nabholz', 'Time': '02:59:59'}, {'Overall': '18', 'Bib': '30056', 'Name': 'Kazufumi Seki', 'Time': '03:01:21'}, {'Overall': '19', 'Bib': '30084', 'Name': 'Nicholas Eulau', 'Time': '03:01:59'}, {'Overall': '20', 'Bib': '30045', 'Name': 'Mitchell Davis', 'Time': '03:02:18'}, {'Overall': '21', 'Bib': '30075', 'Name': 'Eddie Bell', 'Time': '03:03:12'}, {'Overall': '22', 'Bib': '30039', 'Name': 'Montana Klingsporn', 'Time': '03:03:17'}, {'Overall': '23', 'Bib': '2', 'Name': 'Mathias Osmark', 'Time': '03:04:01'}, {'Overall': '24', 'Bib': '30052', 'Name': 'Sean Kunis', 'Time': '03:05:22'}, {'Overall': '25', 'Bib': '30074', 'Name': 'Dylan Beaulieu', 'Time': '03:05:28'}]\n"
     ]
    }
   ],
   "source": [
    "headings = []\n",
    "for th in table_19_1_heading:\n",
    "    headings.append(th.text.replace('\\n','').strip())\n",
    "for tr in table_19_1_data:\n",
    "    t_row = {}\n",
    "    for td, th in zip(tr.find_all('td'), headings):\n",
    "        t_row[th] = td.text.replace('\\n', '').strip()\n",
    "    table_data.append(t_row)\n",
    "print(table_data)"
   ]
  },
  {
   "cell_type": "code",
   "execution_count": 52,
   "metadata": {},
   "outputs": [],
   "source": [
    "with open('table_data.csv', 'w') as out_file:\n",
    "    # Each 3 table has headers as following\n",
    "    headers = headings\n",
    "    # == t_headers\n",
    "    writer = csv.DictWriter(out_file, headers)\n",
    "    # write the header\n",
    "    writer.writeheader()\n",
    "    for row in table_data:\n",
    "        if row:\n",
    "            writer.writerow(row)"
   ]
  },
  {
   "cell_type": "code",
   "execution_count": 53,
   "metadata": {},
   "outputs": [
    {
     "name": "stdout",
     "output_type": "stream",
     "text": [
      "    Overall    Bib                Name      Time\n",
      "0         1  30001      Travis Peruski  01:37:54\n",
      "1         2      1      Scott Wietecha  02:34:59\n",
      "2         3      4       Jordan Wilson  02:35:24\n",
      "3         4  30034      Steelton Flynn  02:39:59\n",
      "4         5  30035        Thomas Ellis  02:42:09\n",
      "5         6  33172    Nicholas Tseffos  02:48:42\n",
      "6         7  30053   Satoshi Mitsumori  02:50:33\n",
      "7         8  30051    Harrison Kieffer  02:51:18\n",
      "8         9  30086        Steven Forte  02:54:34\n",
      "9        10  30042          Grant Rice  02:55:49\n",
      "10       11  30049       Andrew Fisher  02:56:05\n",
      "11       12  30038         Edgar Garza  02:56:40\n",
      "12       13  30094         Wesley King  02:56:58\n",
      "13       14  30112          Jake Smith  02:57:38\n",
      "14       15  30096        Mark Laprade  02:58:00\n",
      "15       16  30142         Scott Roman  02:59:09\n",
      "16       17  30054       James Nabholz  02:59:59\n",
      "17       18  30056       Kazufumi Seki  03:01:21\n",
      "18       19  30084      Nicholas Eulau  03:01:59\n",
      "19       20  30045      Mitchell Davis  03:02:18\n",
      "20       21  30075          Eddie Bell  03:03:12\n",
      "21       22  30039  Montana Klingsporn  03:03:17\n",
      "22       23      2      Mathias Osmark  03:04:01\n",
      "23       24  30052          Sean Kunis  03:05:22\n",
      "24       25  30074      Dylan Beaulieu  03:05:28\n"
     ]
    }
   ],
   "source": [
    "table_csv = pd.read_csv('table_data.csv')\n",
    "print(table_csv)"
   ]
  },
  {
   "cell_type": "code",
   "execution_count": 54,
   "metadata": {},
   "outputs": [],
   "source": [
    "marathons_19_address = []"
   ]
  },
  {
   "cell_type": "code",
   "execution_count": 55,
   "metadata": {},
   "outputs": [
    {
     "name": "stdout",
     "output_type": "stream",
     "text": [
      "['https://www.runrocknroll.com/Events/Nashville/The-Races/Marathon/2019-Results?gender=&agegroup=&bib=&firstname=&lastname=&page=1', 'https://www.runrocknroll.com/Events/Nashville/The-Races/Marathon/2019-Results?gender=&agegroup=&bib=&firstname=&lastname=&page=2', 'https://www.runrocknroll.com/Events/Nashville/The-Races/Marathon/2019-Results?gender=&agegroup=&bib=&firstname=&lastname=&page=3', 'https://www.runrocknroll.com/Events/Nashville/The-Races/Marathon/2019-Results?gender=&agegroup=&bib=&firstname=&lastname=&page=4', 'https://www.runrocknroll.com/Events/Nashville/The-Races/Marathon/2019-Results?gender=&agegroup=&bib=&firstname=&lastname=&page=5', 'https://www.runrocknroll.com/Events/Nashville/The-Races/Marathon/2019-Results?gender=&agegroup=&bib=&firstname=&lastname=&page=6', 'https://www.runrocknroll.com/Events/Nashville/The-Races/Marathon/2019-Results?gender=&agegroup=&bib=&firstname=&lastname=&page=7', 'https://www.runrocknroll.com/Events/Nashville/The-Races/Marathon/2019-Results?gender=&agegroup=&bib=&firstname=&lastname=&page=8', 'https://www.runrocknroll.com/Events/Nashville/The-Races/Marathon/2019-Results?gender=&agegroup=&bib=&firstname=&lastname=&page=9', 'https://www.runrocknroll.com/Events/Nashville/The-Races/Marathon/2019-Results?gender=&agegroup=&bib=&firstname=&lastname=&page=10', 'https://www.runrocknroll.com/Events/Nashville/The-Races/Marathon/2019-Results?gender=&agegroup=&bib=&firstname=&lastname=&page=11', 'https://www.runrocknroll.com/Events/Nashville/The-Races/Marathon/2019-Results?gender=&agegroup=&bib=&firstname=&lastname=&page=12', 'https://www.runrocknroll.com/Events/Nashville/The-Races/Marathon/2019-Results?gender=&agegroup=&bib=&firstname=&lastname=&page=13', 'https://www.runrocknroll.com/Events/Nashville/The-Races/Marathon/2019-Results?gender=&agegroup=&bib=&firstname=&lastname=&page=14', 'https://www.runrocknroll.com/Events/Nashville/The-Races/Marathon/2019-Results?gender=&agegroup=&bib=&firstname=&lastname=&page=15', 'https://www.runrocknroll.com/Events/Nashville/The-Races/Marathon/2019-Results?gender=&agegroup=&bib=&firstname=&lastname=&page=16', 'https://www.runrocknroll.com/Events/Nashville/The-Races/Marathon/2019-Results?gender=&agegroup=&bib=&firstname=&lastname=&page=17', 'https://www.runrocknroll.com/Events/Nashville/The-Races/Marathon/2019-Results?gender=&agegroup=&bib=&firstname=&lastname=&page=18', 'https://www.runrocknroll.com/Events/Nashville/The-Races/Marathon/2019-Results?gender=&agegroup=&bib=&firstname=&lastname=&page=19', 'https://www.runrocknroll.com/Events/Nashville/The-Races/Marathon/2019-Results?gender=&agegroup=&bib=&firstname=&lastname=&page=20', 'https://www.runrocknroll.com/Events/Nashville/The-Races/Marathon/2019-Results?gender=&agegroup=&bib=&firstname=&lastname=&page=21', 'https://www.runrocknroll.com/Events/Nashville/The-Races/Marathon/2019-Results?gender=&agegroup=&bib=&firstname=&lastname=&page=22', 'https://www.runrocknroll.com/Events/Nashville/The-Races/Marathon/2019-Results?gender=&agegroup=&bib=&firstname=&lastname=&page=23', 'https://www.runrocknroll.com/Events/Nashville/The-Races/Marathon/2019-Results?gender=&agegroup=&bib=&firstname=&lastname=&page=24', 'https://www.runrocknroll.com/Events/Nashville/The-Races/Marathon/2019-Results?gender=&agegroup=&bib=&firstname=&lastname=&page=25', 'https://www.runrocknroll.com/Events/Nashville/The-Races/Marathon/2019-Results?gender=&agegroup=&bib=&firstname=&lastname=&page=26', 'https://www.runrocknroll.com/Events/Nashville/The-Races/Marathon/2019-Results?gender=&agegroup=&bib=&firstname=&lastname=&page=27', 'https://www.runrocknroll.com/Events/Nashville/The-Races/Marathon/2019-Results?gender=&agegroup=&bib=&firstname=&lastname=&page=28', 'https://www.runrocknroll.com/Events/Nashville/The-Races/Marathon/2019-Results?gender=&agegroup=&bib=&firstname=&lastname=&page=29', 'https://www.runrocknroll.com/Events/Nashville/The-Races/Marathon/2019-Results?gender=&agegroup=&bib=&firstname=&lastname=&page=30', 'https://www.runrocknroll.com/Events/Nashville/The-Races/Marathon/2019-Results?gender=&agegroup=&bib=&firstname=&lastname=&page=31', 'https://www.runrocknroll.com/Events/Nashville/The-Races/Marathon/2019-Results?gender=&agegroup=&bib=&firstname=&lastname=&page=32', 'https://www.runrocknroll.com/Events/Nashville/The-Races/Marathon/2019-Results?gender=&agegroup=&bib=&firstname=&lastname=&page=33', 'https://www.runrocknroll.com/Events/Nashville/The-Races/Marathon/2019-Results?gender=&agegroup=&bib=&firstname=&lastname=&page=34', 'https://www.runrocknroll.com/Events/Nashville/The-Races/Marathon/2019-Results?gender=&agegroup=&bib=&firstname=&lastname=&page=35', 'https://www.runrocknroll.com/Events/Nashville/The-Races/Marathon/2019-Results?gender=&agegroup=&bib=&firstname=&lastname=&page=36', 'https://www.runrocknroll.com/Events/Nashville/The-Races/Marathon/2019-Results?gender=&agegroup=&bib=&firstname=&lastname=&page=37', 'https://www.runrocknroll.com/Events/Nashville/The-Races/Marathon/2019-Results?gender=&agegroup=&bib=&firstname=&lastname=&page=38', 'https://www.runrocknroll.com/Events/Nashville/The-Races/Marathon/2019-Results?gender=&agegroup=&bib=&firstname=&lastname=&page=39', 'https://www.runrocknroll.com/Events/Nashville/The-Races/Marathon/2019-Results?gender=&agegroup=&bib=&firstname=&lastname=&page=40', 'https://www.runrocknroll.com/Events/Nashville/The-Races/Marathon/2019-Results?gender=&agegroup=&bib=&firstname=&lastname=&page=41', 'https://www.runrocknroll.com/Events/Nashville/The-Races/Marathon/2019-Results?gender=&agegroup=&bib=&firstname=&lastname=&page=42', 'https://www.runrocknroll.com/Events/Nashville/The-Races/Marathon/2019-Results?gender=&agegroup=&bib=&firstname=&lastname=&page=43', 'https://www.runrocknroll.com/Events/Nashville/The-Races/Marathon/2019-Results?gender=&agegroup=&bib=&firstname=&lastname=&page=44', 'https://www.runrocknroll.com/Events/Nashville/The-Races/Marathon/2019-Results?gender=&agegroup=&bib=&firstname=&lastname=&page=45', 'https://www.runrocknroll.com/Events/Nashville/The-Races/Marathon/2019-Results?gender=&agegroup=&bib=&firstname=&lastname=&page=46', 'https://www.runrocknroll.com/Events/Nashville/The-Races/Marathon/2019-Results?gender=&agegroup=&bib=&firstname=&lastname=&page=47', 'https://www.runrocknroll.com/Events/Nashville/The-Races/Marathon/2019-Results?gender=&agegroup=&bib=&firstname=&lastname=&page=48', 'https://www.runrocknroll.com/Events/Nashville/The-Races/Marathon/2019-Results?gender=&agegroup=&bib=&firstname=&lastname=&page=49', 'https://www.runrocknroll.com/Events/Nashville/The-Races/Marathon/2019-Results?gender=&agegroup=&bib=&firstname=&lastname=&page=50', 'https://www.runrocknroll.com/Events/Nashville/The-Races/Marathon/2019-Results?gender=&agegroup=&bib=&firstname=&lastname=&page=51', 'https://www.runrocknroll.com/Events/Nashville/The-Races/Marathon/2019-Results?gender=&agegroup=&bib=&firstname=&lastname=&page=52', 'https://www.runrocknroll.com/Events/Nashville/The-Races/Marathon/2019-Results?gender=&agegroup=&bib=&firstname=&lastname=&page=53', 'https://www.runrocknroll.com/Events/Nashville/The-Races/Marathon/2019-Results?gender=&agegroup=&bib=&firstname=&lastname=&page=54', 'https://www.runrocknroll.com/Events/Nashville/The-Races/Marathon/2019-Results?gender=&agegroup=&bib=&firstname=&lastname=&page=55', 'https://www.runrocknroll.com/Events/Nashville/The-Races/Marathon/2019-Results?gender=&agegroup=&bib=&firstname=&lastname=&page=56', 'https://www.runrocknroll.com/Events/Nashville/The-Races/Marathon/2019-Results?gender=&agegroup=&bib=&firstname=&lastname=&page=57', 'https://www.runrocknroll.com/Events/Nashville/The-Races/Marathon/2019-Results?gender=&agegroup=&bib=&firstname=&lastname=&page=58', 'https://www.runrocknroll.com/Events/Nashville/The-Races/Marathon/2019-Results?gender=&agegroup=&bib=&firstname=&lastname=&page=59', 'https://www.runrocknroll.com/Events/Nashville/The-Races/Marathon/2019-Results?gender=&agegroup=&bib=&firstname=&lastname=&page=60', 'https://www.runrocknroll.com/Events/Nashville/The-Races/Marathon/2019-Results?gender=&agegroup=&bib=&firstname=&lastname=&page=61', 'https://www.runrocknroll.com/Events/Nashville/The-Races/Marathon/2019-Results?gender=&agegroup=&bib=&firstname=&lastname=&page=62', 'https://www.runrocknroll.com/Events/Nashville/The-Races/Marathon/2019-Results?gender=&agegroup=&bib=&firstname=&lastname=&page=63', 'https://www.runrocknroll.com/Events/Nashville/The-Races/Marathon/2019-Results?gender=&agegroup=&bib=&firstname=&lastname=&page=64', 'https://www.runrocknroll.com/Events/Nashville/The-Races/Marathon/2019-Results?gender=&agegroup=&bib=&firstname=&lastname=&page=65', 'https://www.runrocknroll.com/Events/Nashville/The-Races/Marathon/2019-Results?gender=&agegroup=&bib=&firstname=&lastname=&page=66', 'https://www.runrocknroll.com/Events/Nashville/The-Races/Marathon/2019-Results?gender=&agegroup=&bib=&firstname=&lastname=&page=67', 'https://www.runrocknroll.com/Events/Nashville/The-Races/Marathon/2019-Results?gender=&agegroup=&bib=&firstname=&lastname=&page=68', 'https://www.runrocknroll.com/Events/Nashville/The-Races/Marathon/2019-Results?gender=&agegroup=&bib=&firstname=&lastname=&page=69', 'https://www.runrocknroll.com/Events/Nashville/The-Races/Marathon/2019-Results?gender=&agegroup=&bib=&firstname=&lastname=&page=70', 'https://www.runrocknroll.com/Events/Nashville/The-Races/Marathon/2019-Results?gender=&agegroup=&bib=&firstname=&lastname=&page=71', 'https://www.runrocknroll.com/Events/Nashville/The-Races/Marathon/2019-Results?gender=&agegroup=&bib=&firstname=&lastname=&page=72', 'https://www.runrocknroll.com/Events/Nashville/The-Races/Marathon/2019-Results?gender=&agegroup=&bib=&firstname=&lastname=&page=73', 'https://www.runrocknroll.com/Events/Nashville/The-Races/Marathon/2019-Results?gender=&agegroup=&bib=&firstname=&lastname=&page=74', 'https://www.runrocknroll.com/Events/Nashville/The-Races/Marathon/2019-Results?gender=&agegroup=&bib=&firstname=&lastname=&page=75', 'https://www.runrocknroll.com/Events/Nashville/The-Races/Marathon/2019-Results?gender=&agegroup=&bib=&firstname=&lastname=&page=76', 'https://www.runrocknroll.com/Events/Nashville/The-Races/Marathon/2019-Results?gender=&agegroup=&bib=&firstname=&lastname=&page=77', 'https://www.runrocknroll.com/Events/Nashville/The-Races/Marathon/2019-Results?gender=&agegroup=&bib=&firstname=&lastname=&page=78', 'https://www.runrocknroll.com/Events/Nashville/The-Races/Marathon/2019-Results?gender=&agegroup=&bib=&firstname=&lastname=&page=79', 'https://www.runrocknroll.com/Events/Nashville/The-Races/Marathon/2019-Results?gender=&agegroup=&bib=&firstname=&lastname=&page=80', 'https://www.runrocknroll.com/Events/Nashville/The-Races/Marathon/2019-Results?gender=&agegroup=&bib=&firstname=&lastname=&page=81', 'https://www.runrocknroll.com/Events/Nashville/The-Races/Marathon/2019-Results?gender=&agegroup=&bib=&firstname=&lastname=&page=82', 'https://www.runrocknroll.com/Events/Nashville/The-Races/Marathon/2019-Results?gender=&agegroup=&bib=&firstname=&lastname=&page=83', 'https://www.runrocknroll.com/Events/Nashville/The-Races/Marathon/2019-Results?gender=&agegroup=&bib=&firstname=&lastname=&page=84', 'https://www.runrocknroll.com/Events/Nashville/The-Races/Marathon/2019-Results?gender=&agegroup=&bib=&firstname=&lastname=&page=85', 'https://www.runrocknroll.com/Events/Nashville/The-Races/Marathon/2019-Results?gender=&agegroup=&bib=&firstname=&lastname=&page=86', 'https://www.runrocknroll.com/Events/Nashville/The-Races/Marathon/2019-Results?gender=&agegroup=&bib=&firstname=&lastname=&page=87', 'https://www.runrocknroll.com/Events/Nashville/The-Races/Marathon/2019-Results?gender=&agegroup=&bib=&firstname=&lastname=&page=88', 'https://www.runrocknroll.com/Events/Nashville/The-Races/Marathon/2019-Results?gender=&agegroup=&bib=&firstname=&lastname=&page=89', 'https://www.runrocknroll.com/Events/Nashville/The-Races/Marathon/2019-Results?gender=&agegroup=&bib=&firstname=&lastname=&page=90', 'https://www.runrocknroll.com/Events/Nashville/The-Races/Marathon/2019-Results?gender=&agegroup=&bib=&firstname=&lastname=&page=91', 'https://www.runrocknroll.com/Events/Nashville/The-Races/Marathon/2019-Results?gender=&agegroup=&bib=&firstname=&lastname=&page=92', 'https://www.runrocknroll.com/Events/Nashville/The-Races/Marathon/2019-Results?gender=&agegroup=&bib=&firstname=&lastname=&page=93', 'https://www.runrocknroll.com/Events/Nashville/The-Races/Marathon/2019-Results?gender=&agegroup=&bib=&firstname=&lastname=&page=94', 'https://www.runrocknroll.com/Events/Nashville/The-Races/Marathon/2019-Results?gender=&agegroup=&bib=&firstname=&lastname=&page=95', 'https://www.runrocknroll.com/Events/Nashville/The-Races/Marathon/2019-Results?gender=&agegroup=&bib=&firstname=&lastname=&page=96', 'https://www.runrocknroll.com/Events/Nashville/The-Races/Marathon/2019-Results?gender=&agegroup=&bib=&firstname=&lastname=&page=97', 'https://www.runrocknroll.com/Events/Nashville/The-Races/Marathon/2019-Results?gender=&agegroup=&bib=&firstname=&lastname=&page=98', 'https://www.runrocknroll.com/Events/Nashville/The-Races/Marathon/2019-Results?gender=&agegroup=&bib=&firstname=&lastname=&page=99', 'https://www.runrocknroll.com/Events/Nashville/The-Races/Marathon/2019-Results?gender=&agegroup=&bib=&firstname=&lastname=&page=100', 'https://www.runrocknroll.com/Events/Nashville/The-Races/Marathon/2019-Results?gender=&agegroup=&bib=&firstname=&lastname=&page=101', 'https://www.runrocknroll.com/Events/Nashville/The-Races/Marathon/2019-Results?gender=&agegroup=&bib=&firstname=&lastname=&page=102', 'https://www.runrocknroll.com/Events/Nashville/The-Races/Marathon/2019-Results?gender=&agegroup=&bib=&firstname=&lastname=&page=103', 'https://www.runrocknroll.com/Events/Nashville/The-Races/Marathon/2019-Results?gender=&agegroup=&bib=&firstname=&lastname=&page=104', 'https://www.runrocknroll.com/Events/Nashville/The-Races/Marathon/2019-Results?gender=&agegroup=&bib=&firstname=&lastname=&page=105', 'https://www.runrocknroll.com/Events/Nashville/The-Races/Marathon/2019-Results?gender=&agegroup=&bib=&firstname=&lastname=&page=106', 'https://www.runrocknroll.com/Events/Nashville/The-Races/Marathon/2019-Results?gender=&agegroup=&bib=&firstname=&lastname=&page=107', 'https://www.runrocknroll.com/Events/Nashville/The-Races/Marathon/2019-Results?gender=&agegroup=&bib=&firstname=&lastname=&page=108', 'https://www.runrocknroll.com/Events/Nashville/The-Races/Marathon/2019-Results?gender=&agegroup=&bib=&firstname=&lastname=&page=109', 'https://www.runrocknroll.com/Events/Nashville/The-Races/Marathon/2019-Results?gender=&agegroup=&bib=&firstname=&lastname=&page=110', 'https://www.runrocknroll.com/Events/Nashville/The-Races/Marathon/2019-Results?gender=&agegroup=&bib=&firstname=&lastname=&page=111', 'https://www.runrocknroll.com/Events/Nashville/The-Races/Marathon/2019-Results?gender=&agegroup=&bib=&firstname=&lastname=&page=112', 'https://www.runrocknroll.com/Events/Nashville/The-Races/Marathon/2019-Results?gender=&agegroup=&bib=&firstname=&lastname=&page=113']\n"
     ]
    }
   ],
   "source": [
    "n = 1\n",
    "marathons_19_n = marathons_19 + str(n)\n",
    "resp = requests.post(marathons_19_n)\n",
    "soup = BeautifulSoup(resp.text, 'html.parser')\n",
    "while soup.findAll('li', {'class': 'disabled PagedList-skipToNext'}) == []:\n",
    "    marathons_19_address.append(marathons_19_n)\n",
    "    n += 1\n",
    "    marathons_19_n = marathons_19 + str(n)\n",
    "    resp = requests.post(marathons_19_n)\n",
    "    soup = BeautifulSoup(resp.text, 'html.parser')\n",
    "marathons_19_n = marathons_19 + str(n)\n",
    "marathons_19_address.append(marathons_19_n)\n",
    "print(marathons_19_address)"
   ]
  },
  {
   "cell_type": "code",
   "execution_count": 56,
   "metadata": {},
   "outputs": [],
   "source": [
    "marathons_19_data = []\n",
    "for address in marathons_19_address:\n",
    "    resp = requests.post(address)\n",
    "    soup = BeautifulSoup(resp.text, 'html.parser')\n",
    "    table_19 = soup.find('table', {'class': 'table table-responsive table-bordered'})\n",
    "    table_19_heading = table_19.find('tr')\n",
    "    table_19_heading = table_19_heading.find_all('th')\n",
    "    table_19_data = table_19.find_all('tr')\n",
    "    table_19_data.pop(0)\n",
    "    headings = []\n",
    "    for th in table_19_heading:\n",
    "        headings.append(th.text.replace('\\n','').strip())\n",
    "    for tr in table_19_data:\n",
    "        t_row = {}\n",
    "        for td, th in zip(tr.find_all('td'), headings):\n",
    "            t_row[th] = td.text.replace('\\n', '').strip()\n",
    "        marathons_19_data.append(t_row)"
   ]
  },
  {
   "cell_type": "code",
   "execution_count": 57,
   "metadata": {},
   "outputs": [],
   "source": [
    "with open('marathons_19.csv', 'w') as out_file:\n",
    "    headers = headings\n",
    "    writer = csv.DictWriter(out_file, headers)\n",
    "    writer.writeheader()\n",
    "    for row in marathons_19_data:\n",
    "        if row:\n",
    "            writer.writerow(row)"
   ]
  },
  {
   "cell_type": "code",
   "execution_count": 60,
   "metadata": {},
   "outputs": [
    {
     "name": "stdout",
     "output_type": "stream",
     "text": [
      "    Overall    Bib                  Name      Time\n",
      "0         1  30001        Travis Peruski  01:37:54\n",
      "1         2      1        Scott Wietecha  02:34:59\n",
      "2         3      4         Jordan Wilson  02:35:24\n",
      "3         4  30034        Steelton Flynn  02:39:59\n",
      "4         5  30035          Thomas Ellis  02:42:09\n",
      "5         6  33172      Nicholas Tseffos  02:48:42\n",
      "6         7  30053     Satoshi Mitsumori  02:50:33\n",
      "7         8  30051      Harrison Kieffer  02:51:18\n",
      "8         9  30086          Steven Forte  02:54:34\n",
      "9        10  30042            Grant Rice  02:55:49\n",
      "10       11  30049         Andrew Fisher  02:56:05\n",
      "11       12  30038           Edgar Garza  02:56:40\n",
      "12       13  30094           Wesley King  02:56:58\n",
      "13       14  30112            Jake Smith  02:57:38\n",
      "14       15  30096          Mark Laprade  02:58:00\n",
      "15       16  30142           Scott Roman  02:59:09\n",
      "16       17  30054         James Nabholz  02:59:59\n",
      "17       18  30056         Kazufumi Seki  03:01:21\n",
      "18       19  30084        Nicholas Eulau  03:01:59\n",
      "19       20  30045        Mitchell Davis  03:02:18\n",
      "20       21  30075            Eddie Bell  03:03:12\n",
      "21       22  30039    Montana Klingsporn  03:03:17\n",
      "22       23      2        Mathias Osmark  03:04:01\n",
      "23       24  30052            Sean Kunis  03:05:22\n",
      "24       25  30074        Dylan Beaulieu  03:05:28\n",
      "25       26  33054       Nixon Gutierrez  03:06:05\n",
      "26       27  30120      Jeff Vinciguerra  03:06:11\n",
      "27       28  33058          Matthew Katz  03:06:21\n",
      "28       29  30002          Carson Davis  03:06:25\n",
      "29       30  30061        Willy Mcnamara  03:07:05\n",
      "30       31  30119     Jeffrey Suppinger  03:07:41\n",
      "31       32      7    Leah Frazier Allen  03:07:51\n",
      "32       33  30513           Emily Soppe  03:11:16\n",
      "33       34  32300       Anthony Jackson  03:11:30\n",
      "34       35  30138            Gregg Lamb  03:11:59\n",
      "35       36  33055        Caleb Chambers  03:12:24\n",
      "36       37  30046         Josh Einspahr  03:12:40\n",
      "37       38  30282          Bryan Curtin  03:13:20\n",
      "38       39  30055          Jason Schwab  03:13:22\n",
      "39       40  30180          Steve Troxel  03:13:58\n",
      "40       41  30145          David Burton  03:14:24\n",
      "41       42  33195         Scott Slavens  03:15:06\n",
      "42       43  30124          Allison Koch  03:15:27\n",
      "43       44  30210       Richard Sanzone  03:15:38\n",
      "44       45  30149            Alan Arpon  03:15:42\n",
      "45       46  33203  Remington Ponce-Pore  03:15:49\n",
      "46       47  30259           Tara Austin  03:15:54\n",
      "47       48  30179    Cyrille Tiberghien  03:15:57\n",
      "48       49  30097            David Long  03:17:04\n",
      "49       50  31210         David Quiroga  03:18:39\n",
      "      Overall    Bib                              Name      Time\n",
      "2761    99999  32956                         Jon Walls  00:00:00\n",
      "2762    99999  31232                     Courtney Sams  00:00:00\n",
      "2763    99999  33176                    Sergio Ramirez  00:00:00\n",
      "2764    99999  31929                      Eddie Murray  00:00:00\n",
      "2765    99999  32904                       Alisha Haff  00:00:00\n",
      "2766    99999  31864                      Mariah Kubik  00:00:00\n",
      "2767    99999  32454                      Melissa Judd  00:00:00\n",
      "2768    99999  32617                        Josh Beler  00:00:00\n",
      "2769    99999  30892                 Austin Brunhoeber  00:00:00\n",
      "2770    99999  32336                      Thomas Capps  00:00:00\n",
      "2771    99999  30272                   Dustin Chambers  00:00:00\n",
      "2772    99999  31849                   Tatiana Kannady  00:00:00\n",
      "2773    99999  32328                        Tom Bonner  00:00:00\n",
      "2774    99999  31000                        Jeff Goins  00:00:00\n",
      "2775    99999  31919                       Anna Molver  00:00:00\n",
      "2776    99999  31486                    Selina Meiners  00:00:00\n",
      "2777    99999  32967                        In England  00:00:00\n",
      "2778    99999  31107                       Cortez Mack  00:00:00\n",
      "2779    99999  32263                   Valerie Barrett  00:00:00\n",
      "2780    99999  32224                       Bill Rasure  00:00:00\n",
      "2781    99999  32897                     Sarah Eustace  00:00:00\n",
      "2782    99999  32936                         Gina Rose  00:00:00\n",
      "2783    99999  32528             Mary Virginia Portera  00:00:00\n",
      "2784    99999  31792                          Jon Fulp  00:00:00\n",
      "2785    99999  30219           Pedro Torquemada Alonso  00:00:00\n",
      "2786    99999  32107                       Nicole Fuss  00:00:00\n",
      "2787    99999  31407  Benito Agustín Medina Villalobos  00:00:00\n",
      "2788    99999  32926                        Sara Ocean  00:00:00\n",
      "2789    99999  30403                      Danny Staggs  00:00:00\n",
      "2790    99999  30009                      Noah Cummins  00:00:00\n",
      "2791    99999  32465                   Rachel Lavender  00:00:00\n",
      "2792    99999  32414                     Daniel Harmon  00:00:00\n",
      "2793    99999  30158                     Darren Guffey  00:00:00\n",
      "2794    99999  32461                    Chris Lanemann  00:00:00\n",
      "2795    99999  30951                      Lee Dobryden  00:00:00\n",
      "2796    99999  32627                      Bruce Thomas  00:00:00\n",
      "2797    99999  30144                Christine Schaffer  00:00:00\n",
      "2798    99999  32013                   Mathew Starratt  00:00:00\n",
      "2799    99999  32368                         Seth Dyer  00:00:00\n",
      "2800    99999  30982                 George Fotopoulos  00:00:00\n",
      "2801    99999  32700                   Jonathan Vicuna  00:00:00\n",
      "2802    99999  31182                      John Osthaus  00:00:00\n",
      "2803    99999  32005                    Brittany Small  00:00:00\n",
      "2804    99999  32762                Jacqueline Johnson  00:00:00\n",
      "2805    99999  32732                      Marie Flores  00:00:00\n",
      "2806    99999  30304                         Kevin Fox  00:00:00\n",
      "2807    99999  31936                      Scott Newell  00:00:00\n",
      "2808    99999  32183                    Clarisa Horton  00:00:00\n",
      "2809    99999  31656                      Tony Amburgy  00:00:00\n",
      "2810    99999  32258                    Krista Zanetti  00:00:00\n"
     ]
    }
   ],
   "source": [
    "marathons_19_csv = pd.read_csv('marathons_19.csv')\n",
    "print(marathons_19_csv.head(50))\n",
    "print(marathons_19_csv.tail(50))"
   ]
  },
  {
   "cell_type": "code",
   "execution_count": null,
   "metadata": {},
   "outputs": [],
   "source": []
  }
 ],
 "metadata": {
  "kernelspec": {
   "display_name": "Python 3",
   "language": "python",
   "name": "python3"
  },
  "language_info": {
   "codemirror_mode": {
    "name": "ipython",
    "version": 3
   },
   "file_extension": ".py",
   "mimetype": "text/x-python",
   "name": "python",
   "nbconvert_exporter": "python",
   "pygments_lexer": "ipython3",
   "version": "3.7.6"
  }
 },
 "nbformat": 4,
 "nbformat_minor": 4
}
