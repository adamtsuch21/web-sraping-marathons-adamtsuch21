{
 "cells": [
  {
   "cell_type": "code",
   "execution_count": 89,
   "metadata": {},
   "outputs": [],
   "source": [
    "import requests\n",
    "from bs4 import BeautifulSoup"
   ]
  },
  {
   "cell_type": "code",
   "execution_count": 90,
   "metadata": {},
   "outputs": [],
   "source": [
    "MARATHONS_CONFIG = {\n",
    "    'base_url': 'https://www.runrocknroll.com',\n",
    "    'query_params': 'gender=&agegroup=&bib=&firstname=&lastname=&page=',\n",
    "    'pages': [\n",
    "        'Events/Nashville/The-Races/Marathon/2019-Results',\n",
    "        'Events/Nashville/The-Races/Marathon/2018-Results',\n",
    "        'Events/Nashville/The-Races/Marathon/2017-Results',\n",
    "        'Events/Nashville/The-Races/Marathon/2016-Results',\n",
    "        'Events/Nashville/The-Races/Half-Marathon/2019-Results',\n",
    "        'Events/Nashville/The-Races/Half-Marathon/2018-Results',\n",
    "        'Events/Nashville/The-Races/Half-Marathon/2017-Results',\n",
    "        'Events/Nashville/The-Races/Half-Marathon/2016-Results'\n",
    "    ]\n",
    "}"
   ]
  },
  {
   "cell_type": "code",
   "execution_count": 91,
   "metadata": {},
   "outputs": [
    {
     "name": "stdout",
     "output_type": "stream",
     "text": [
      "['Events/Nashville/The-Races/Marathon/2019-Results', 'Events/Nashville/The-Races/Marathon/2018-Results', 'Events/Nashville/The-Races/Marathon/2017-Results', 'Events/Nashville/The-Races/Marathon/2016-Results', 'Events/Nashville/The-Races/Half-Marathon/2019-Results', 'Events/Nashville/The-Races/Half-Marathon/2018-Results', 'Events/Nashville/The-Races/Half-Marathon/2017-Results', 'Events/Nashville/The-Races/Half-Marathon/2016-Results']\n"
     ]
    }
   ],
   "source": [
    "marathon_pages = MARATHONS_CONFIG['pages']\n",
    "print(marathon_pages)"
   ]
  },
  {
   "cell_type": "code",
   "execution_count": 92,
   "metadata": {},
   "outputs": [
    {
     "name": "stdout",
     "output_type": "stream",
     "text": [
      "https://www.runrocknroll.com\n"
     ]
    }
   ],
   "source": [
    "marathons_base = MARATHONS_CONFIG['base_url']\n",
    "print(marathons_base)"
   ]
  },
  {
   "cell_type": "code",
   "execution_count": 93,
   "metadata": {},
   "outputs": [
    {
     "name": "stdout",
     "output_type": "stream",
     "text": [
      "gender=&agegroup=&bib=&firstname=&lastname=&page=\n"
     ]
    }
   ],
   "source": [
    "marathons_params = MARATHONS_CONFIG['query_params']\n",
    "print(marathons_params)"
   ]
  },
  {
   "cell_type": "code",
   "execution_count": 94,
   "metadata": {},
   "outputs": [
    {
     "name": "stdout",
     "output_type": "stream",
     "text": [
      "https://www.runrocknroll.com/Events/Nashville/The-Races/Marathon/2019-Results?gender=&agegroup=&bib=&firstname=&lastname=&page=1\n"
     ]
    }
   ],
   "source": [
    "marathons_2019 = f'{marathons_base}/{marathon_pages[0]}?{marathons_params}1'\n",
    "print(marathons_2019)"
   ]
  },
  {
   "cell_type": "code",
   "execution_count": 95,
   "metadata": {},
   "outputs": [
    {
     "name": "stdout",
     "output_type": "stream",
     "text": [
      "200\n"
     ]
    }
   ],
   "source": [
    "resp = requests.post(marathons_2019)\n",
    "print(resp.status_code)"
   ]
  },
  {
   "cell_type": "code",
   "execution_count": 96,
   "metadata": {},
   "outputs": [],
   "source": [
    "soup = BeautifulSoup(resp.text, 'html.parser')"
   ]
  },
  {
   "cell_type": "code",
   "execution_count": 97,
   "metadata": {},
   "outputs": [
    {
     "name": "stdout",
     "output_type": "stream",
     "text": [
      "<table class=\"table table-responsive table-bordered\">\n",
      "<tr>\n",
      "<th class=\"table-place\">Overall</th>\n",
      "<th class=\"table-place\">Bib</th>\n",
      "<th class=\"table-name\">Name</th>\n",
      "<th class=\"table-time\">Time</th>\n",
      "</tr>\n",
      "<tr>\n",
      "<td>1</td>\n",
      "<td>30001</td>\n",
      "<td><a href=\"/en/Events/Nashville/The-Races/Marathon/2019-Results/Athlete?id=30001\">Travis Peruski</a></td>\n",
      "<td>01:37:54</td>\n",
      "</tr>\n",
      "<tr>\n",
      "<td>2</td>\n",
      "<td>1</td>\n",
      "<td><a href=\"/en/Events/Nashville/The-Races/Marathon/2019-Results/Athlete?id=1\">Scott Wietecha</a></td>\n",
      "<td>02:34:59</td>\n",
      "</tr>\n",
      "<tr>\n",
      "<td>3</td>\n",
      "<td>4</td>\n",
      "<td><a href=\"/en/Events/Nashville/The-Races/Marathon/2019-Results/Athlete?id=4\">Jordan Wilson</a></td>\n",
      "<td>02:35:24</td>\n",
      "</tr>\n",
      "<tr>\n",
      "<td>4</td>\n",
      "<td>30034</td>\n",
      "<td><a href=\"/en/Events/Nashville/The-Races/Marathon/2019-Results/Athlete?id=30034\">Steelton Flynn</a></td>\n",
      "<td>02:39:59</td>\n",
      "</tr>\n",
      "<tr>\n",
      "<td>5</td>\n",
      "<td>30035</td>\n",
      "<td><a href=\"/en/Events/Nashville/The-Races/Marathon/2019-Results/Athlete?id=30035\">Thomas Ellis</a></td>\n",
      "<td>02:42:09</td>\n",
      "</tr>\n",
      "<tr>\n",
      "<td>6</td>\n",
      "<td>33172</td>\n",
      "<td><a href=\"/en/Events/Nashville/The-Races/Marathon/2019-Results/Athlete?id=33172\">Nicholas Tseffos</a></td>\n",
      "<td>02:48:42</td>\n",
      "</tr>\n",
      "<tr>\n",
      "<td>7</td>\n",
      "<td>30053</td>\n",
      "<td><a href=\"/en/Events/Nashville/The-Races/Marathon/2019-Results/Athlete?id=30053\">Satoshi Mitsumori</a></td>\n",
      "<td>02:50:33</td>\n",
      "</tr>\n",
      "<tr>\n",
      "<td>8</td>\n",
      "<td>30051</td>\n",
      "<td><a href=\"/en/Events/Nashville/The-Races/Marathon/2019-Results/Athlete?id=30051\">Harrison Kieffer</a></td>\n",
      "<td>02:51:18</td>\n",
      "</tr>\n",
      "<tr>\n",
      "<td>9</td>\n",
      "<td>30086</td>\n",
      "<td><a href=\"/en/Events/Nashville/The-Races/Marathon/2019-Results/Athlete?id=30086\">Steven Forte</a></td>\n",
      "<td>02:54:34</td>\n",
      "</tr>\n",
      "<tr>\n",
      "<td>10</td>\n",
      "<td>30042</td>\n",
      "<td><a href=\"/en/Events/Nashville/The-Races/Marathon/2019-Results/Athlete?id=30042\">Grant Rice</a></td>\n",
      "<td>02:55:49</td>\n",
      "</tr>\n",
      "<tr>\n",
      "<td>11</td>\n",
      "<td>30049</td>\n",
      "<td><a href=\"/en/Events/Nashville/The-Races/Marathon/2019-Results/Athlete?id=30049\">Andrew Fisher</a></td>\n",
      "<td>02:56:05</td>\n",
      "</tr>\n",
      "<tr>\n",
      "<td>12</td>\n",
      "<td>30038</td>\n",
      "<td><a href=\"/en/Events/Nashville/The-Races/Marathon/2019-Results/Athlete?id=30038\">Edgar Garza</a></td>\n",
      "<td>02:56:40</td>\n",
      "</tr>\n",
      "<tr>\n",
      "<td>13</td>\n",
      "<td>30094</td>\n",
      "<td><a href=\"/en/Events/Nashville/The-Races/Marathon/2019-Results/Athlete?id=30094\">Wesley King</a></td>\n",
      "<td>02:56:58</td>\n",
      "</tr>\n",
      "<tr>\n",
      "<td>14</td>\n",
      "<td>30112</td>\n",
      "<td><a href=\"/en/Events/Nashville/The-Races/Marathon/2019-Results/Athlete?id=30112\">Jake Smith</a></td>\n",
      "<td>02:57:38</td>\n",
      "</tr>\n",
      "<tr>\n",
      "<td>15</td>\n",
      "<td>30096</td>\n",
      "<td><a href=\"/en/Events/Nashville/The-Races/Marathon/2019-Results/Athlete?id=30096\">Mark Laprade</a></td>\n",
      "<td>02:58:00</td>\n",
      "</tr>\n",
      "<tr>\n",
      "<td>16</td>\n",
      "<td>30142</td>\n",
      "<td><a href=\"/en/Events/Nashville/The-Races/Marathon/2019-Results/Athlete?id=30142\">Scott Roman</a></td>\n",
      "<td>02:59:09</td>\n",
      "</tr>\n",
      "<tr>\n",
      "<td>17</td>\n",
      "<td>30054</td>\n",
      "<td><a href=\"/en/Events/Nashville/The-Races/Marathon/2019-Results/Athlete?id=30054\">James Nabholz</a></td>\n",
      "<td>02:59:59</td>\n",
      "</tr>\n",
      "<tr>\n",
      "<td>18</td>\n",
      "<td>30056</td>\n",
      "<td><a href=\"/en/Events/Nashville/The-Races/Marathon/2019-Results/Athlete?id=30056\">Kazufumi Seki</a></td>\n",
      "<td>03:01:21</td>\n",
      "</tr>\n",
      "<tr>\n",
      "<td>19</td>\n",
      "<td>30084</td>\n",
      "<td><a href=\"/en/Events/Nashville/The-Races/Marathon/2019-Results/Athlete?id=30084\">Nicholas Eulau</a></td>\n",
      "<td>03:01:59</td>\n",
      "</tr>\n",
      "<tr>\n",
      "<td>20</td>\n",
      "<td>30045</td>\n",
      "<td><a href=\"/en/Events/Nashville/The-Races/Marathon/2019-Results/Athlete?id=30045\">Mitchell Davis</a></td>\n",
      "<td>03:02:18</td>\n",
      "</tr>\n",
      "<tr>\n",
      "<td>21</td>\n",
      "<td>30075</td>\n",
      "<td><a href=\"/en/Events/Nashville/The-Races/Marathon/2019-Results/Athlete?id=30075\">Eddie Bell</a></td>\n",
      "<td>03:03:12</td>\n",
      "</tr>\n",
      "<tr>\n",
      "<td>22</td>\n",
      "<td>30039</td>\n",
      "<td><a href=\"/en/Events/Nashville/The-Races/Marathon/2019-Results/Athlete?id=30039\">Montana Klingsporn</a></td>\n",
      "<td>03:03:17</td>\n",
      "</tr>\n",
      "<tr>\n",
      "<td>23</td>\n",
      "<td>2</td>\n",
      "<td><a href=\"/en/Events/Nashville/The-Races/Marathon/2019-Results/Athlete?id=2\">Mathias Osmark</a></td>\n",
      "<td>03:04:01</td>\n",
      "</tr>\n",
      "<tr>\n",
      "<td>24</td>\n",
      "<td>30052</td>\n",
      "<td><a href=\"/en/Events/Nashville/The-Races/Marathon/2019-Results/Athlete?id=30052\">Sean Kunis</a></td>\n",
      "<td>03:05:22</td>\n",
      "</tr>\n",
      "<tr>\n",
      "<td>25</td>\n",
      "<td>30074</td>\n",
      "<td><a href=\"/en/Events/Nashville/The-Races/Marathon/2019-Results/Athlete?id=30074\">Dylan Beaulieu</a></td>\n",
      "<td>03:05:28</td>\n",
      "</tr>\n",
      "</table>\n"
     ]
    }
   ],
   "source": [
    "table = soup.find('table', {'class': 'table table-responsive table-bordered'})\n",
    "print(table)"
   ]
  },
  {
   "cell_type": "code",
   "execution_count": null,
   "metadata": {},
   "outputs": [],
   "source": [
    "metrics = []\n",
    "\n",
    "for tr in table.findAll('tr'):\n",
    "    \n",
    "    # grabbing the text, and doing a little cleanup\n",
    "    metric = li.find('span', {'class': 'num'}).text \\\n",
    "        .replace('\\n', '') \\\n",
    "        .strip()\n",
    "    \n",
    "    # going ahead and casting it to an integer if something was found!\n",
    "    if metric:\n",
    "        metric = int(metric)\n",
    "    else:\n",
    "        metric = None\n",
    "    \n",
    "    metrics.append(metric)"
   ]
  },
  {
   "cell_type": "code",
   "execution_count": 76,
   "metadata": {},
   "outputs": [
    {
     "name": "stdout",
     "output_type": "stream",
     "text": [
      "[<li class=\"disabled PagedList-skipToNext\"><a rel=\"next\">&gt;</a></li>]\n"
     ]
    }
   ],
   "source": [
    "skip = soup.findAll('li', {'class': 'disabled PagedList-skipToNext'})\n",
    "print(skip)"
   ]
  },
  {
   "cell_type": "code",
   "execution_count": null,
   "metadata": {},
   "outputs": [],
   "source": [
    "def get_page_soup(url):\n",
    "    print(f'Fetching website data for: marathons 2019')\n",
    "    resp = requests.get(url)\n",
    "    return BeautifulSoup(resp.text, 'html.parser')\n"
   ]
  }
 ],
 "metadata": {
  "kernelspec": {
   "display_name": "Python 3",
   "language": "python",
   "name": "python3"
  },
  "language_info": {
   "codemirror_mode": {
    "name": "ipython",
    "version": 3
   },
   "file_extension": ".py",
   "mimetype": "text/x-python",
   "name": "python",
   "nbconvert_exporter": "python",
   "pygments_lexer": "ipython3",
   "version": "3.7.6"
  }
 },
 "nbformat": 4,
 "nbformat_minor": 4
}
