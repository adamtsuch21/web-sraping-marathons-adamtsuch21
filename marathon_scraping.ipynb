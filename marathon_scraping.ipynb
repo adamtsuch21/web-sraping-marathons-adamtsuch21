{
 "cells": [
  {
   "cell_type": "code",
   "execution_count": 80,
   "metadata": {},
   "outputs": [],
   "source": [
    "import requests\n",
    "from bs4 import BeautifulSoup"
   ]
  },
  {
   "cell_type": "code",
   "execution_count": 81,
   "metadata": {},
   "outputs": [],
   "source": [
    "MARATHONS_CONFIG = {\n",
    "    'base_url': 'https://www.runrocknroll.com',\n",
    "    'query_params': 'gender=&agegroup=&bib=&firstname=&lastname=&page=',\n",
    "    'pages': [\n",
    "        'Events/Nashville/The-Races/Marathon/2019-Results',\n",
    "        'Events/Nashville/The-Races/Marathon/2018-Results',\n",
    "        'Events/Nashville/The-Races/Marathon/2017-Results',\n",
    "        'Events/Nashville/The-Races/Marathon/2016-Results',\n",
    "        'Events/Nashville/The-Races/Half-Marathon/2019-Results',\n",
    "        'Events/Nashville/The-Races/Half-Marathon/2018-Results',\n",
    "        'Events/Nashville/The-Races/Half-Marathon/2017-Results',\n",
    "        'Events/Nashville/The-Races/Half-Marathon/2016-Results'\n",
    "    ]\n",
    "}"
   ]
  },
  {
   "cell_type": "code",
   "execution_count": 82,
   "metadata": {},
   "outputs": [
    {
     "name": "stdout",
     "output_type": "stream",
     "text": [
      "['Events/Nashville/The-Races/Marathon/2019-Results', 'Events/Nashville/The-Races/Marathon/2018-Results', 'Events/Nashville/The-Races/Marathon/2017-Results', 'Events/Nashville/The-Races/Marathon/2016-Results', 'Events/Nashville/The-Races/Half-Marathon/2019-Results', 'Events/Nashville/The-Races/Half-Marathon/2018-Results', 'Events/Nashville/The-Races/Half-Marathon/2017-Results', 'Events/Nashville/The-Races/Half-Marathon/2016-Results']\n"
     ]
    }
   ],
   "source": [
    "marathon_pages = MARATHONS_CONFIG['pages']\n",
    "print(marathon_pages)"
   ]
  },
  {
   "cell_type": "code",
   "execution_count": 83,
   "metadata": {},
   "outputs": [
    {
     "name": "stdout",
     "output_type": "stream",
     "text": [
      "https://www.runrocknroll.com\n"
     ]
    }
   ],
   "source": [
    "marathons_base = MARATHONS_CONFIG['base_url']\n",
    "print(marathons_base)"
   ]
  },
  {
   "cell_type": "code",
   "execution_count": 84,
   "metadata": {
    "scrolled": true
   },
   "outputs": [
    {
     "name": "stdout",
     "output_type": "stream",
     "text": [
      "gender=&agegroup=&bib=&firstname=&lastname=&page=\n"
     ]
    }
   ],
   "source": [
    "marathons_params = MARATHONS_CONFIG['query_params']\n",
    "print(marathons_params)"
   ]
  },
  {
   "cell_type": "code",
   "execution_count": 85,
   "metadata": {},
   "outputs": [],
   "source": [
    "marathons_19 = f'{marathons_base}/{marathon_pages[0]}?{marathons_params}'"
   ]
  },
  {
   "cell_type": "code",
   "execution_count": 87,
   "metadata": {},
   "outputs": [],
   "source": [
    "marathons_18 = f'{marathons_base}/{marathon_pages[1]}?{marathons_params}'"
   ]
  },
  {
   "cell_type": "code",
   "execution_count": 88,
   "metadata": {},
   "outputs": [],
   "source": [
    "marathons_17 = f'{marathons_base}/{marathon_pages[2]}?{marathons_params}'"
   ]
  },
  {
   "cell_type": "code",
   "execution_count": 89,
   "metadata": {},
   "outputs": [],
   "source": [
    "marathons_16 = f'{marathons_base}/{marathon_pages[3]}?{marathons_params}'"
   ]
  },
  {
   "cell_type": "code",
   "execution_count": 90,
   "metadata": {},
   "outputs": [],
   "source": [
    "half_19 = f'{marathons_base}/{marathon_pages[4]}?{marathons_params}'"
   ]
  },
  {
   "cell_type": "code",
   "execution_count": 91,
   "metadata": {},
   "outputs": [],
   "source": [
    "half_18 = f'{marathons_base}/{marathon_pages[5]}?{marathons_params}'"
   ]
  },
  {
   "cell_type": "code",
   "execution_count": 92,
   "metadata": {},
   "outputs": [],
   "source": [
    "half_17 = f'{marathons_base}/{marathon_pages[6]}?{marathons_params}'"
   ]
  },
  {
   "cell_type": "code",
   "execution_count": 93,
   "metadata": {},
   "outputs": [],
   "source": [
    "half_16 = f'{marathons_base}/{marathon_pages[7]}?{marathons_params}'"
   ]
  },
  {
   "cell_type": "code",
   "execution_count": 86,
   "metadata": {},
   "outputs": [
    {
     "name": "stdout",
     "output_type": "stream",
     "text": [
      "https://www.runrocknroll.com/Events/Nashville/The-Races/Marathon/2019-Results?gender=&agegroup=&bib=&firstname=&lastname=&page=1\n"
     ]
    }
   ],
   "source": [
    "marathons_19_1 = f'{marathons_19}1'\n",
    "print(marathons_2019)"
   ]
  },
  {
   "cell_type": "code",
   "execution_count": 55,
   "metadata": {},
   "outputs": [
    {
     "name": "stdout",
     "output_type": "stream",
     "text": [
      "200\n"
     ]
    }
   ],
   "source": [
    "resp = requests.post(marathons_2019_1)\n",
    "print(resp.status_code)"
   ]
  },
  {
   "cell_type": "code",
   "execution_count": 56,
   "metadata": {},
   "outputs": [],
   "source": [
    "soup = BeautifulSoup(resp.text, 'html.parser')"
   ]
  },
  {
   "cell_type": "code",
   "execution_count": 57,
   "metadata": {
    "scrolled": false
   },
   "outputs": [
    {
     "name": "stdout",
     "output_type": "stream",
     "text": [
      "<table class=\"table table-responsive table-bordered\">\n",
      "<tr>\n",
      "<th class=\"table-place\">Overall</th>\n",
      "<th class=\"table-place\">Bib</th>\n",
      "<th class=\"table-name\">Name</th>\n",
      "<th class=\"table-time\">Time</th>\n",
      "</tr>\n",
      "<tr>\n",
      "<td>1</td>\n",
      "<td>30001</td>\n",
      "<td><a href=\"/en/Events/Nashville/The-Races/Marathon/2019-Results/Athlete?id=30001\">Travis Peruski</a></td>\n",
      "<td>01:37:54</td>\n",
      "</tr>\n",
      "<tr>\n",
      "<td>2</td>\n",
      "<td>1</td>\n",
      "<td><a href=\"/en/Events/Nashville/The-Races/Marathon/2019-Results/Athlete?id=1\">Scott Wietecha</a></td>\n",
      "<td>02:34:59</td>\n",
      "</tr>\n",
      "<tr>\n",
      "<td>3</td>\n",
      "<td>4</td>\n",
      "<td><a href=\"/en/Events/Nashville/The-Races/Marathon/2019-Results/Athlete?id=4\">Jordan Wilson</a></td>\n",
      "<td>02:35:24</td>\n",
      "</tr>\n",
      "<tr>\n",
      "<td>4</td>\n",
      "<td>30034</td>\n",
      "<td><a href=\"/en/Events/Nashville/The-Races/Marathon/2019-Results/Athlete?id=30034\">Steelton Flynn</a></td>\n",
      "<td>02:39:59</td>\n",
      "</tr>\n",
      "<tr>\n",
      "<td>5</td>\n",
      "<td>30035</td>\n",
      "<td><a href=\"/en/Events/Nashville/The-Races/Marathon/2019-Results/Athlete?id=30035\">Thomas Ellis</a></td>\n",
      "<td>02:42:09</td>\n",
      "</tr>\n",
      "<tr>\n",
      "<td>6</td>\n",
      "<td>33172</td>\n",
      "<td><a href=\"/en/Events/Nashville/The-Races/Marathon/2019-Results/Athlete?id=33172\">Nicholas Tseffos</a></td>\n",
      "<td>02:48:42</td>\n",
      "</tr>\n",
      "<tr>\n",
      "<td>7</td>\n",
      "<td>30053</td>\n",
      "<td><a href=\"/en/Events/Nashville/The-Races/Marathon/2019-Results/Athlete?id=30053\">Satoshi Mitsumori</a></td>\n",
      "<td>02:50:33</td>\n",
      "</tr>\n",
      "<tr>\n",
      "<td>8</td>\n",
      "<td>30051</td>\n",
      "<td><a href=\"/en/Events/Nashville/The-Races/Marathon/2019-Results/Athlete?id=30051\">Harrison Kieffer</a></td>\n",
      "<td>02:51:18</td>\n",
      "</tr>\n",
      "<tr>\n",
      "<td>9</td>\n",
      "<td>30086</td>\n",
      "<td><a href=\"/en/Events/Nashville/The-Races/Marathon/2019-Results/Athlete?id=30086\">Steven Forte</a></td>\n",
      "<td>02:54:34</td>\n",
      "</tr>\n",
      "<tr>\n",
      "<td>10</td>\n",
      "<td>30042</td>\n",
      "<td><a href=\"/en/Events/Nashville/The-Races/Marathon/2019-Results/Athlete?id=30042\">Grant Rice</a></td>\n",
      "<td>02:55:49</td>\n",
      "</tr>\n",
      "<tr>\n",
      "<td>11</td>\n",
      "<td>30049</td>\n",
      "<td><a href=\"/en/Events/Nashville/The-Races/Marathon/2019-Results/Athlete?id=30049\">Andrew Fisher</a></td>\n",
      "<td>02:56:05</td>\n",
      "</tr>\n",
      "<tr>\n",
      "<td>12</td>\n",
      "<td>30038</td>\n",
      "<td><a href=\"/en/Events/Nashville/The-Races/Marathon/2019-Results/Athlete?id=30038\">Edgar Garza</a></td>\n",
      "<td>02:56:40</td>\n",
      "</tr>\n",
      "<tr>\n",
      "<td>13</td>\n",
      "<td>30094</td>\n",
      "<td><a href=\"/en/Events/Nashville/The-Races/Marathon/2019-Results/Athlete?id=30094\">Wesley King</a></td>\n",
      "<td>02:56:58</td>\n",
      "</tr>\n",
      "<tr>\n",
      "<td>14</td>\n",
      "<td>30112</td>\n",
      "<td><a href=\"/en/Events/Nashville/The-Races/Marathon/2019-Results/Athlete?id=30112\">Jake Smith</a></td>\n",
      "<td>02:57:38</td>\n",
      "</tr>\n",
      "<tr>\n",
      "<td>15</td>\n",
      "<td>30096</td>\n",
      "<td><a href=\"/en/Events/Nashville/The-Races/Marathon/2019-Results/Athlete?id=30096\">Mark Laprade</a></td>\n",
      "<td>02:58:00</td>\n",
      "</tr>\n",
      "<tr>\n",
      "<td>16</td>\n",
      "<td>30142</td>\n",
      "<td><a href=\"/en/Events/Nashville/The-Races/Marathon/2019-Results/Athlete?id=30142\">Scott Roman</a></td>\n",
      "<td>02:59:09</td>\n",
      "</tr>\n",
      "<tr>\n",
      "<td>17</td>\n",
      "<td>30054</td>\n",
      "<td><a href=\"/en/Events/Nashville/The-Races/Marathon/2019-Results/Athlete?id=30054\">James Nabholz</a></td>\n",
      "<td>02:59:59</td>\n",
      "</tr>\n",
      "<tr>\n",
      "<td>18</td>\n",
      "<td>30056</td>\n",
      "<td><a href=\"/en/Events/Nashville/The-Races/Marathon/2019-Results/Athlete?id=30056\">Kazufumi Seki</a></td>\n",
      "<td>03:01:21</td>\n",
      "</tr>\n",
      "<tr>\n",
      "<td>19</td>\n",
      "<td>30084</td>\n",
      "<td><a href=\"/en/Events/Nashville/The-Races/Marathon/2019-Results/Athlete?id=30084\">Nicholas Eulau</a></td>\n",
      "<td>03:01:59</td>\n",
      "</tr>\n",
      "<tr>\n",
      "<td>20</td>\n",
      "<td>30045</td>\n",
      "<td><a href=\"/en/Events/Nashville/The-Races/Marathon/2019-Results/Athlete?id=30045\">Mitchell Davis</a></td>\n",
      "<td>03:02:18</td>\n",
      "</tr>\n",
      "<tr>\n",
      "<td>21</td>\n",
      "<td>30075</td>\n",
      "<td><a href=\"/en/Events/Nashville/The-Races/Marathon/2019-Results/Athlete?id=30075\">Eddie Bell</a></td>\n",
      "<td>03:03:12</td>\n",
      "</tr>\n",
      "<tr>\n",
      "<td>22</td>\n",
      "<td>30039</td>\n",
      "<td><a href=\"/en/Events/Nashville/The-Races/Marathon/2019-Results/Athlete?id=30039\">Montana Klingsporn</a></td>\n",
      "<td>03:03:17</td>\n",
      "</tr>\n",
      "<tr>\n",
      "<td>23</td>\n",
      "<td>2</td>\n",
      "<td><a href=\"/en/Events/Nashville/The-Races/Marathon/2019-Results/Athlete?id=2\">Mathias Osmark</a></td>\n",
      "<td>03:04:01</td>\n",
      "</tr>\n",
      "<tr>\n",
      "<td>24</td>\n",
      "<td>30052</td>\n",
      "<td><a href=\"/en/Events/Nashville/The-Races/Marathon/2019-Results/Athlete?id=30052\">Sean Kunis</a></td>\n",
      "<td>03:05:22</td>\n",
      "</tr>\n",
      "<tr>\n",
      "<td>25</td>\n",
      "<td>30074</td>\n",
      "<td><a href=\"/en/Events/Nashville/The-Races/Marathon/2019-Results/Athlete?id=30074\">Dylan Beaulieu</a></td>\n",
      "<td>03:05:28</td>\n",
      "</tr>\n",
      "</table>\n"
     ]
    }
   ],
   "source": [
    "table_19_1 = soup.find('table', {'class': 'table table-responsive table-bordered'})\n",
    "print(table_19_1)"
   ]
  },
  {
   "cell_type": "code",
   "execution_count": 58,
   "metadata": {},
   "outputs": [
    {
     "name": "stdout",
     "output_type": "stream",
     "text": [
      "[<th class=\"table-place\">Overall</th>, <th class=\"table-place\">Bib</th>, <th class=\"table-name\">Name</th>, <th class=\"table-time\">Time</th>]\n"
     ]
    }
   ],
   "source": [
    "table_19_1_heading = table_19_1.find('tr')\n",
    "table_19_1_heading = table_19_1_heading.find_all('th')\n",
    "print(table_19_1_heading)"
   ]
  },
  {
   "cell_type": "code",
   "execution_count": 67,
   "metadata": {},
   "outputs": [
    {
     "name": "stdout",
     "output_type": "stream",
     "text": [
      "[<tr>\n",
      "<td>1</td>\n",
      "<td>30001</td>\n",
      "<td><a href=\"/en/Events/Nashville/The-Races/Marathon/2019-Results/Athlete?id=30001\">Travis Peruski</a></td>\n",
      "<td>01:37:54</td>\n",
      "</tr>, <tr>\n",
      "<td>2</td>\n",
      "<td>1</td>\n",
      "<td><a href=\"/en/Events/Nashville/The-Races/Marathon/2019-Results/Athlete?id=1\">Scott Wietecha</a></td>\n",
      "<td>02:34:59</td>\n",
      "</tr>, <tr>\n",
      "<td>3</td>\n",
      "<td>4</td>\n",
      "<td><a href=\"/en/Events/Nashville/The-Races/Marathon/2019-Results/Athlete?id=4\">Jordan Wilson</a></td>\n",
      "<td>02:35:24</td>\n",
      "</tr>, <tr>\n",
      "<td>4</td>\n",
      "<td>30034</td>\n",
      "<td><a href=\"/en/Events/Nashville/The-Races/Marathon/2019-Results/Athlete?id=30034\">Steelton Flynn</a></td>\n",
      "<td>02:39:59</td>\n",
      "</tr>, <tr>\n",
      "<td>5</td>\n",
      "<td>30035</td>\n",
      "<td><a href=\"/en/Events/Nashville/The-Races/Marathon/2019-Results/Athlete?id=30035\">Thomas Ellis</a></td>\n",
      "<td>02:42:09</td>\n",
      "</tr>, <tr>\n",
      "<td>6</td>\n",
      "<td>33172</td>\n",
      "<td><a href=\"/en/Events/Nashville/The-Races/Marathon/2019-Results/Athlete?id=33172\">Nicholas Tseffos</a></td>\n",
      "<td>02:48:42</td>\n",
      "</tr>, <tr>\n",
      "<td>7</td>\n",
      "<td>30053</td>\n",
      "<td><a href=\"/en/Events/Nashville/The-Races/Marathon/2019-Results/Athlete?id=30053\">Satoshi Mitsumori</a></td>\n",
      "<td>02:50:33</td>\n",
      "</tr>, <tr>\n",
      "<td>8</td>\n",
      "<td>30051</td>\n",
      "<td><a href=\"/en/Events/Nashville/The-Races/Marathon/2019-Results/Athlete?id=30051\">Harrison Kieffer</a></td>\n",
      "<td>02:51:18</td>\n",
      "</tr>, <tr>\n",
      "<td>9</td>\n",
      "<td>30086</td>\n",
      "<td><a href=\"/en/Events/Nashville/The-Races/Marathon/2019-Results/Athlete?id=30086\">Steven Forte</a></td>\n",
      "<td>02:54:34</td>\n",
      "</tr>, <tr>\n",
      "<td>10</td>\n",
      "<td>30042</td>\n",
      "<td><a href=\"/en/Events/Nashville/The-Races/Marathon/2019-Results/Athlete?id=30042\">Grant Rice</a></td>\n",
      "<td>02:55:49</td>\n",
      "</tr>, <tr>\n",
      "<td>11</td>\n",
      "<td>30049</td>\n",
      "<td><a href=\"/en/Events/Nashville/The-Races/Marathon/2019-Results/Athlete?id=30049\">Andrew Fisher</a></td>\n",
      "<td>02:56:05</td>\n",
      "</tr>, <tr>\n",
      "<td>12</td>\n",
      "<td>30038</td>\n",
      "<td><a href=\"/en/Events/Nashville/The-Races/Marathon/2019-Results/Athlete?id=30038\">Edgar Garza</a></td>\n",
      "<td>02:56:40</td>\n",
      "</tr>, <tr>\n",
      "<td>13</td>\n",
      "<td>30094</td>\n",
      "<td><a href=\"/en/Events/Nashville/The-Races/Marathon/2019-Results/Athlete?id=30094\">Wesley King</a></td>\n",
      "<td>02:56:58</td>\n",
      "</tr>, <tr>\n",
      "<td>14</td>\n",
      "<td>30112</td>\n",
      "<td><a href=\"/en/Events/Nashville/The-Races/Marathon/2019-Results/Athlete?id=30112\">Jake Smith</a></td>\n",
      "<td>02:57:38</td>\n",
      "</tr>, <tr>\n",
      "<td>15</td>\n",
      "<td>30096</td>\n",
      "<td><a href=\"/en/Events/Nashville/The-Races/Marathon/2019-Results/Athlete?id=30096\">Mark Laprade</a></td>\n",
      "<td>02:58:00</td>\n",
      "</tr>, <tr>\n",
      "<td>16</td>\n",
      "<td>30142</td>\n",
      "<td><a href=\"/en/Events/Nashville/The-Races/Marathon/2019-Results/Athlete?id=30142\">Scott Roman</a></td>\n",
      "<td>02:59:09</td>\n",
      "</tr>, <tr>\n",
      "<td>17</td>\n",
      "<td>30054</td>\n",
      "<td><a href=\"/en/Events/Nashville/The-Races/Marathon/2019-Results/Athlete?id=30054\">James Nabholz</a></td>\n",
      "<td>02:59:59</td>\n",
      "</tr>, <tr>\n",
      "<td>18</td>\n",
      "<td>30056</td>\n",
      "<td><a href=\"/en/Events/Nashville/The-Races/Marathon/2019-Results/Athlete?id=30056\">Kazufumi Seki</a></td>\n",
      "<td>03:01:21</td>\n",
      "</tr>, <tr>\n",
      "<td>19</td>\n",
      "<td>30084</td>\n",
      "<td><a href=\"/en/Events/Nashville/The-Races/Marathon/2019-Results/Athlete?id=30084\">Nicholas Eulau</a></td>\n",
      "<td>03:01:59</td>\n",
      "</tr>, <tr>\n",
      "<td>20</td>\n",
      "<td>30045</td>\n",
      "<td><a href=\"/en/Events/Nashville/The-Races/Marathon/2019-Results/Athlete?id=30045\">Mitchell Davis</a></td>\n",
      "<td>03:02:18</td>\n",
      "</tr>, <tr>\n",
      "<td>21</td>\n",
      "<td>30075</td>\n",
      "<td><a href=\"/en/Events/Nashville/The-Races/Marathon/2019-Results/Athlete?id=30075\">Eddie Bell</a></td>\n",
      "<td>03:03:12</td>\n",
      "</tr>, <tr>\n",
      "<td>22</td>\n",
      "<td>30039</td>\n",
      "<td><a href=\"/en/Events/Nashville/The-Races/Marathon/2019-Results/Athlete?id=30039\">Montana Klingsporn</a></td>\n",
      "<td>03:03:17</td>\n",
      "</tr>, <tr>\n",
      "<td>23</td>\n",
      "<td>2</td>\n",
      "<td><a href=\"/en/Events/Nashville/The-Races/Marathon/2019-Results/Athlete?id=2\">Mathias Osmark</a></td>\n",
      "<td>03:04:01</td>\n",
      "</tr>, <tr>\n",
      "<td>24</td>\n",
      "<td>30052</td>\n",
      "<td><a href=\"/en/Events/Nashville/The-Races/Marathon/2019-Results/Athlete?id=30052\">Sean Kunis</a></td>\n",
      "<td>03:05:22</td>\n",
      "</tr>, <tr>\n",
      "<td>25</td>\n",
      "<td>30074</td>\n",
      "<td><a href=\"/en/Events/Nashville/The-Races/Marathon/2019-Results/Athlete?id=30074\">Dylan Beaulieu</a></td>\n",
      "<td>03:05:28</td>\n",
      "</tr>]\n"
     ]
    }
   ],
   "source": [
    "table_19_1_data = table_19_1.find_all('tr')\n",
    "table_19_1_data.pop(0)\n",
    "print(table_19_1_data)"
   ]
  },
  {
   "cell_type": "code",
   "execution_count": 70,
   "metadata": {},
   "outputs": [
    {
     "name": "stdout",
     "output_type": "stream",
     "text": [
      "[{'Overall': '1', 'Bib': '30001', 'Name': 'Travis Peruski', 'Time': '01:37:54'}, {'Overall': '2', 'Bib': '1', 'Name': 'Scott Wietecha', 'Time': '02:34:59'}, {'Overall': '3', 'Bib': '4', 'Name': 'Jordan Wilson', 'Time': '02:35:24'}, {'Overall': '4', 'Bib': '30034', 'Name': 'Steelton Flynn', 'Time': '02:39:59'}, {'Overall': '5', 'Bib': '30035', 'Name': 'Thomas Ellis', 'Time': '02:42:09'}, {'Overall': '6', 'Bib': '33172', 'Name': 'Nicholas Tseffos', 'Time': '02:48:42'}, {'Overall': '7', 'Bib': '30053', 'Name': 'Satoshi Mitsumori', 'Time': '02:50:33'}, {'Overall': '8', 'Bib': '30051', 'Name': 'Harrison Kieffer', 'Time': '02:51:18'}, {'Overall': '9', 'Bib': '30086', 'Name': 'Steven Forte', 'Time': '02:54:34'}, {'Overall': '10', 'Bib': '30042', 'Name': 'Grant Rice', 'Time': '02:55:49'}, {'Overall': '11', 'Bib': '30049', 'Name': 'Andrew Fisher', 'Time': '02:56:05'}, {'Overall': '12', 'Bib': '30038', 'Name': 'Edgar Garza', 'Time': '02:56:40'}, {'Overall': '13', 'Bib': '30094', 'Name': 'Wesley King', 'Time': '02:56:58'}, {'Overall': '14', 'Bib': '30112', 'Name': 'Jake Smith', 'Time': '02:57:38'}, {'Overall': '15', 'Bib': '30096', 'Name': 'Mark Laprade', 'Time': '02:58:00'}, {'Overall': '16', 'Bib': '30142', 'Name': 'Scott Roman', 'Time': '02:59:09'}, {'Overall': '17', 'Bib': '30054', 'Name': 'James Nabholz', 'Time': '02:59:59'}, {'Overall': '18', 'Bib': '30056', 'Name': 'Kazufumi Seki', 'Time': '03:01:21'}, {'Overall': '19', 'Bib': '30084', 'Name': 'Nicholas Eulau', 'Time': '03:01:59'}, {'Overall': '20', 'Bib': '30045', 'Name': 'Mitchell Davis', 'Time': '03:02:18'}, {'Overall': '21', 'Bib': '30075', 'Name': 'Eddie Bell', 'Time': '03:03:12'}, {'Overall': '22', 'Bib': '30039', 'Name': 'Montana Klingsporn', 'Time': '03:03:17'}, {'Overall': '23', 'Bib': '2', 'Name': 'Mathias Osmark', 'Time': '03:04:01'}, {'Overall': '24', 'Bib': '30052', 'Name': 'Sean Kunis', 'Time': '03:05:22'}, {'Overall': '25', 'Bib': '30074', 'Name': 'Dylan Beaulieu', 'Time': '03:05:28'}]\n"
     ]
    }
   ],
   "source": [
    "data = []\n",
    "headings = []\n",
    "for th in table_19_1_heading:\n",
    "    headings.append(th.text.replace('\\n','').strip())\n",
    "table_data = []\n",
    "for tr in table_19_1_data:\n",
    "    t_row = {}\n",
    "    for td, th in zip(tr.find_all('td'), headings):\n",
    "        t_row[th] = td.text.replace('\\n', '').strip()\n",
    "    table_data.append(t_row)\n",
    "print(table_data)"
   ]
  },
  {
   "cell_type": "code",
   "execution_count": 78,
   "metadata": {},
   "outputs": [],
   "source": [
    "import csv\n",
    "\n",
    "with open('table_data.csv', 'w') as out_file:\n",
    "    # Each 3 table has headers as following\n",
    "    headers = headings\n",
    "    # == t_headers\n",
    "    writer = csv.DictWriter(out_file, headers)\n",
    "    # write the header\n",
    "    writer.writeheader()\n",
    "    for row in table_data:\n",
    "        if row:\n",
    "            writer.writerow(row)"
   ]
  },
  {
   "cell_type": "code",
   "execution_count": 79,
   "metadata": {},
   "outputs": [
    {
     "name": "stdout",
     "output_type": "stream",
     "text": [
      "    Overall    Bib                Name      Time\n",
      "0         1  30001      Travis Peruski  01:37:54\n",
      "1         2      1      Scott Wietecha  02:34:59\n",
      "2         3      4       Jordan Wilson  02:35:24\n",
      "3         4  30034      Steelton Flynn  02:39:59\n",
      "4         5  30035        Thomas Ellis  02:42:09\n",
      "5         6  33172    Nicholas Tseffos  02:48:42\n",
      "6         7  30053   Satoshi Mitsumori  02:50:33\n",
      "7         8  30051    Harrison Kieffer  02:51:18\n",
      "8         9  30086        Steven Forte  02:54:34\n",
      "9        10  30042          Grant Rice  02:55:49\n",
      "10       11  30049       Andrew Fisher  02:56:05\n",
      "11       12  30038         Edgar Garza  02:56:40\n",
      "12       13  30094         Wesley King  02:56:58\n",
      "13       14  30112          Jake Smith  02:57:38\n",
      "14       15  30096        Mark Laprade  02:58:00\n",
      "15       16  30142         Scott Roman  02:59:09\n",
      "16       17  30054       James Nabholz  02:59:59\n",
      "17       18  30056       Kazufumi Seki  03:01:21\n",
      "18       19  30084      Nicholas Eulau  03:01:59\n",
      "19       20  30045      Mitchell Davis  03:02:18\n",
      "20       21  30075          Eddie Bell  03:03:12\n",
      "21       22  30039  Montana Klingsporn  03:03:17\n",
      "22       23      2      Mathias Osmark  03:04:01\n",
      "23       24  30052          Sean Kunis  03:05:22\n",
      "24       25  30074      Dylan Beaulieu  03:05:28\n"
     ]
    }
   ],
   "source": [
    "import pandas as pd\n",
    "\n",
    "table_csv = pd.read_csv('table_data.csv')\n",
    "print(table_csv)"
   ]
  },
  {
   "cell_type": "code",
   "execution_count": 76,
   "metadata": {},
   "outputs": [
    {
     "name": "stdout",
     "output_type": "stream",
     "text": [
      "[<li class=\"disabled PagedList-skipToNext\"><a rel=\"next\">&gt;</a></li>]\n"
     ]
    }
   ],
   "source": [
    "skip = soup.findAll('li', {'class': 'disabled PagedList-skipToNext'})\n",
    "print(skip)"
   ]
  }
 ],
 "metadata": {
  "kernelspec": {
   "display_name": "Python 3",
   "language": "python",
   "name": "python3"
  },
  "language_info": {
   "codemirror_mode": {
    "name": "ipython",
    "version": 3
   },
   "file_extension": ".py",
   "mimetype": "text/x-python",
   "name": "python",
   "nbconvert_exporter": "python",
   "pygments_lexer": "ipython3",
   "version": "3.7.6"
  }
 },
 "nbformat": 4,
 "nbformat_minor": 4
}
